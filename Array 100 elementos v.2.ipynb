{
 "cells": [
  {
   "cell_type": "code",
   "execution_count": 1,
   "metadata": {},
   "outputs": [],
   "source": [
    "import numpy as np"
   ]
  },
  {
   "cell_type": "code",
   "execution_count": 18,
   "metadata": {},
   "outputs": [],
   "source": [
    "np.random.seed(10)"
   ]
  },
  {
   "cell_type": "code",
   "execution_count": 19,
   "metadata": {},
   "outputs": [
    {
     "name": "stdout",
     "output_type": "stream",
     "text": [
      "[[  9 100  15  64  28  89  93  29   8  73]\n",
      " [  0  40  36  16 100  11  54  88  62  33]\n",
      " [ 72 100  78  49  51  54  77  69  13  25]\n",
      " [ 13  92  86  30  30  89  12  65  31  57]\n",
      " [ 36  27  18  93  77  22  23  94  11  28]\n",
      " [ 74  88   9  15  18  80  71  88  11  17]\n",
      " [ 46   7  75  28  33  84  96  88  44   5]\n",
      " [  4  71  88  88  50  54  34  15  77  88]\n",
      " [ 15   6  85  22  11  12  92  96  62  57]\n",
      " [ 79  42  57  97  50  45  40  89  73  37]]\n"
     ]
    }
   ],
   "source": [
    "arr = np.random.randint(101, size = (10, 10)) \n",
    "print(arr)"
   ]
  },
  {
   "cell_type": "code",
   "execution_count": 20,
   "metadata": {},
   "outputs": [
    {
     "name": "stdout",
     "output_type": "stream",
     "text": [
      "Mediana: 50.0\n",
      "Média: 50.83\n",
      "Variância: 956.8211\n",
      "Desvio Padrão: 30.932524953517778\n"
     ]
    }
   ],
   "source": [
    "mediana = np.median(arr)\n",
    "media = np.mean(arr)\n",
    "variancia = np.var(arr)\n",
    "dp = np.std(arr)\n",
    "print(f\"Mediana: {mediana}\\nMédia: {media}\\nVariância: {variancia}\\nDesvio Padrão: {dp}\")\n"
   ]
  },
  {
   "cell_type": "code",
   "execution_count": 12,
   "metadata": {},
   "outputs": [],
   "source": [
    "def soma(x,y):\n",
    "    if y > x:\n",
    "        s = np.arange(x,y+1).sum()\n",
    "        print(s)\n",
    "    else:\n",
    "        print('O segundo número não é maior que o primeiro, digite outros valores!') "
   ]
  },
  {
   "cell_type": "code",
   "execution_count": 16,
   "metadata": {},
   "outputs": [
    {
     "name": "stdout",
     "output_type": "stream",
     "text": [
      "O segundo número não é maior que o primeiro, digite outros valores!\n"
     ]
    }
   ],
   "source": [
    "soma(5,4)"
   ]
  },
  {
   "cell_type": "code",
   "execution_count": 22,
   "metadata": {},
   "outputs": [
    {
     "name": "stdout",
     "output_type": "stream",
     "text": [
      "36,40\n",
      "190\n"
     ]
    }
   ],
   "source": [
    "import random   \n",
    "n = random.choice(arr)\n",
    "num1 = random.choice(n)\n",
    "num2 = random.choice(n)\n",
    "print(f'{num1},{num2}')\n",
    "soma(num1,num2)\n"
   ]
  },
  {
   "cell_type": "code",
   "execution_count": 2,
   "metadata": {},
   "outputs": [],
   "source": [
    "def fat(num_fatorial):\n",
    "    if num_fatorial > 0:\n",
    "        s = np.arange(1,num_fatorial+1).prod()\n",
    "        print(s)"
   ]
  },
  {
   "cell_type": "code",
   "execution_count": 3,
   "metadata": {},
   "outputs": [
    {
     "name": "stdout",
     "output_type": "stream",
     "text": [
      "120\n"
     ]
    }
   ],
   "source": [
    "fat(5)"
   ]
  },
  {
   "cell_type": "code",
   "execution_count": 27,
   "metadata": {},
   "outputs": [
    {
     "name": "stdout",
     "output_type": "stream",
     "text": [
      "[36 27 18 93 77 22 23 94 11 28]\n",
      "27\n",
      "10888869450418352160768000000\n"
     ]
    }
   ],
   "source": [
    "num = random.choice(arr)\n",
    "num3 = random.choice(num)\n",
    "print(num)\n",
    "print(num3)\n",
    "fat(num3)"
   ]
  }
 ],
 "metadata": {
  "kernelspec": {
   "display_name": "Python 3",
   "language": "python",
   "name": "python3"
  },
  "language_info": {
   "codemirror_mode": {
    "name": "ipython",
    "version": 3
   },
   "file_extension": ".py",
   "mimetype": "text/x-python",
   "name": "python",
   "nbconvert_exporter": "python",
   "pygments_lexer": "ipython3",
   "version": "3.11.6"
  },
  "orig_nbformat": 4
 },
 "nbformat": 4,
 "nbformat_minor": 2
}
