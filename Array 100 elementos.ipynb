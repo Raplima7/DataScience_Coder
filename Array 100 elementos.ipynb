{
 "cells": [
  {
   "cell_type": "code",
   "execution_count": 9,
   "metadata": {},
   "outputs": [],
   "source": [
    "import numpy as np"
   ]
  },
  {
   "cell_type": "code",
   "execution_count": 127,
   "metadata": {},
   "outputs": [
    {
     "name": "stdout",
     "output_type": "stream",
     "text": [
      "[[ 34  15  94  44  99  64  47  30  87  96]\n",
      " [ 66   9  47  83  29  55  21  63  63  18]\n",
      " [ 13  31  27  30  36  32  30  75  30  99]\n",
      " [ 79  13   9  59  99  39  10 100  54  87]\n",
      " [ 51  80  54  89  66  20   5  28  88  74]\n",
      " [  5  30  76  40  45  82  93  22  79  67]\n",
      " [ 35   5   9  16  23  69  87  79  80  81]\n",
      " [ 17  60  85  22  11  80  33  20  89  92]\n",
      " [ 26  65  54  82  26  14   1  95  55  18]\n",
      " [ 23  20  65  69  58  96  30  59  93  29]]\n"
     ]
    }
   ],
   "source": [
    "arr = np.random.randint(101, size = (10, 10)) \n",
    "print(arr)"
   ]
  },
  {
   "cell_type": "code",
   "execution_count": 128,
   "metadata": {},
   "outputs": [
    {
     "name": "stdout",
     "output_type": "stream",
     "text": [
      "52.5\n"
     ]
    }
   ],
   "source": [
    "mediana = np.median(arr)\n",
    "print(mediana)\n"
   ]
  },
  {
   "cell_type": "code",
   "execution_count": 13,
   "metadata": {},
   "outputs": [],
   "source": [
    "def soma(x,y):\n",
    "    if y > x:\n",
    "        s = 0\n",
    "        for i in range(x,y+1):\n",
    "            s+=i\n",
    "        print(s)\n",
    "    else:\n",
    "        print('O segundo número não é maior que o primeiro, digite outros valores!') "
   ]
  },
  {
   "cell_type": "code",
   "execution_count": 189,
   "metadata": {},
   "outputs": [
    {
     "name": "stdout",
     "output_type": "stream",
     "text": [
      "35,9\n",
      "O segundo número é menor que o primeiro, digite outros valores!\n"
     ]
    }
   ],
   "source": [
    "import random   \n",
    "n = random.choice(arr)\n",
    "num1 = random.choice(n)\n",
    "num2 = random.choice(n)\n",
    "print(f'{num1},{num2}')\n",
    "soma(num1,num2)\n"
   ]
  },
  {
   "cell_type": "code",
   "execution_count": 72,
   "metadata": {},
   "outputs": [],
   "source": [
    "def fat(num_fatorial):\n",
    "    s=0\n",
    "    if num_fatorial > 0:\n",
    "        s = 1\n",
    "        for n in range(1,num_fatorial+1):\n",
    "            s *= n\n",
    "    print(s)"
   ]
  },
  {
   "cell_type": "code",
   "execution_count": 182,
   "metadata": {},
   "outputs": [
    {
     "name": "stdout",
     "output_type": "stream",
     "text": [
      "[26 65 54 82 26 14  1 95 55 18]\n",
      "1\n",
      "1\n"
     ]
    }
   ],
   "source": [
    "num = random.choice(arr)\n",
    "num3 = random.choice(num)\n",
    "print(num)\n",
    "print(num3)\n",
    "fat(num3)"
   ]
  }
 ],
 "metadata": {
  "kernelspec": {
   "display_name": "Python 3",
   "language": "python",
   "name": "python3"
  },
  "language_info": {
   "codemirror_mode": {
    "name": "ipython",
    "version": 3
   },
   "file_extension": ".py",
   "mimetype": "text/x-python",
   "name": "python",
   "nbconvert_exporter": "python",
   "pygments_lexer": "ipython3",
   "version": "3.11.6"
  },
  "orig_nbformat": 4
 },
 "nbformat": 4,
 "nbformat_minor": 2
}
