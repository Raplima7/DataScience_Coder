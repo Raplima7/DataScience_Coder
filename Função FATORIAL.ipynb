{
 "cells": [
  {
   "cell_type": "code",
   "execution_count": 30,
   "metadata": {},
   "outputs": [],
   "source": [
    "def fat(num_fatorial):\n",
    "    s=0\n",
    "    if num_fatorial > 0:\n",
    "        s = 1\n",
    "        for n in range(1,num_fatorial+1):\n",
    "            s *= n\n",
    "    print(s)"
   ]
  },
  {
   "cell_type": "code",
   "execution_count": 44,
   "metadata": {},
   "outputs": [
    {
     "name": "stdout",
     "output_type": "stream",
     "text": [
      "Calculadora de Fatorial\n",
      "O fatorial de 4 é:\n",
      "24\n"
     ]
    }
   ],
   "source": [
    "print('Calculadora de Fatorial')\n",
    "num = int(input('Digite o número para calcular seu fatorial: '))\n",
    "if type(num) == int and num >= 0:\n",
    "    print(f'O fatorial de {num} é:') \n",
    "    fat(num)\n",
    "elif num < 0:\n",
    "    print(\"Não existe fatorial de número negativo\")\n",
    "else:\n",
    "    print('Digite um número inteiro')"
   ]
  }
 ],
 "metadata": {
  "kernelspec": {
   "display_name": "Python 3",
   "language": "python",
   "name": "python3"
  },
  "language_info": {
   "codemirror_mode": {
    "name": "ipython",
    "version": 3
   },
   "file_extension": ".py",
   "mimetype": "text/x-python",
   "name": "python",
   "nbconvert_exporter": "python",
   "pygments_lexer": "ipython3",
   "version": "3.11.6"
  },
  "orig_nbformat": 4
 },
 "nbformat": 4,
 "nbformat_minor": 2
}
